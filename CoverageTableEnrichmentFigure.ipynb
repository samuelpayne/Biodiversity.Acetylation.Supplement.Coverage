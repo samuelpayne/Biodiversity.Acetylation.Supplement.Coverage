{
 "cells": [
  {
   "cell_type": "markdown",
   "metadata": {},
   "source": [
    "# Overall Flow\n",
    "\n",
    "There are several parsing steps that just put data into objects\n",
    "1. Parse the PSM files and get out Organism and Protein objects (currently done with .txt. goal to get .mzIdentML)\n",
    "2. KEGG mapping\n",
    "3. Run the Fisher's Exact test on all organisms\n",
    "4. Make enrichment figures\n",
    "5. Make tables\n",
    "\n",
    "## Step 1. Parse PSM files\n",
    "\n",
    "At the end of this, we have a 'Parser.OrganismObjectsDictionary' variable that holds all the proteins and peptides found in an organism. The peptides are in the Protein object inside a dictionary keyed on their sequence"
   ]
  },
  {
   "cell_type": "code",
   "execution_count": 1,
   "metadata": {
    "collapsed": false
   },
   "outputs": [
    {
     "name": "stdout",
     "output_type": "stream",
     "text": [
      "The associations file listed 216 psm results files from 48 organisms\n"
     ]
    }
   ],
   "source": [
    "import IdentifyingPeptidesAndProteins\n",
    "Acetylation = IdentifyingPeptidesAndProteins.ParserClass()\n",
    "#parameters\n",
    "DirectoryOfPSMs = \"Acetylation.filtered.q_0.001\" # PSM files originally filtered to q<0.001 and zipped\n",
    "FileToOrganismAssociation = \"PSMFilesAssociatedByOrganism.txt\"\n",
    "Acetylation.AddFiles(DirectoryOfPSMs, FileToOrganismAssociation)\n",
    "Acetylation.SetQvalue(0.0001) # I like data quality.\n",
    "Acetylation.Main()\n"
   ]
  },
  {
   "cell_type": "markdown",
   "metadata": {},
   "source": [
    "## Step 2 Parse the KEGG stuff\n",
    "\n",
    "This leaves us with two things. a ProteinAccessionToKO dictionary and a KOsInAPathway dictionary. With these we should be able to get what we need in terms of which proteins are assigned to which pathways\n",
    "Note: you can add custom pathways by editing the ko_pathway.list file, if you choose."
   ]
  },
  {
   "cell_type": "code",
   "execution_count": 2,
   "metadata": {
    "collapsed": true
   },
   "outputs": [],
   "source": [
    "import ParsingKeggFiles\n",
    "K_Parser = ParsingKeggFiles.CreatorClass()\n",
    "#parameters\n",
    "DirectoryOfGhostKoalaAnnotations = \"GhostKoalaAnnotation\"\n",
    "PathwayMappingFilePath = \"ko_pathway.list\"\n",
    "KoalaFileToOrganismAssociation = \"GhostKoalaFilesAssociatedByOrganism.txt\"\n",
    "K_Parser.AddFiles(DirectoryOfGhostKoalaAnnotations, PathwayMappingFilePath)\n",
    "K_Parser.Main()"
   ]
  },
  {
   "cell_type": "markdown",
   "metadata": {},
   "source": [
    "## Step 3. Run the Fishers test for enrichment\n",
    "Go through all the organisms and create the numbers necessary for a fisher's test"
   ]
  },
  {
   "cell_type": "code",
   "execution_count": 3,
   "metadata": {
    "collapsed": true
   },
   "outputs": [],
   "source": [
    "##some nice Methods that I'll put in it's own box\n",
    "import scipy.stats as stats\n",
    "\n",
    "def intersect(a, b):\n",
    "    return list(set(a) & set(b))\n",
    "\n",
    "def ComputeFishersExact(ModProteins, NotModProteins, PathwayProteins):\n",
    "    ## this takes in three lists of proteins and computes the Fisher's exact test for \n",
    "    ##enrichment of PathwayProteins && ModProtein. It uses these variables\n",
    "    #  x = IN_pathway && Modified = union of M and P\n",
    "    #  M-x = NOT_IN_pathway && Modified\n",
    "    #  P-x = IN_pathway && Not_Modified\n",
    "    #  N-(P-x) = NOT_IN_pathway && Not_Modified\n",
    "\n",
    "    Intersection = intersect(ModProteins, PathwayProteins)\n",
    "    num_X = len(Intersection)\n",
    "    num_P = len(PathwayProteins)\n",
    "    num_N = len(NotModProteins)\n",
    "    num_M = len(ModProteins)\n",
    "    #Put them into the quartiles for the 2x2 square\n",
    "    Q1 = num_X\n",
    "    Q2 = num_M - num_X\n",
    "    Q3 = num_P - num_X\n",
    "    Q4 = num_N-(num_P-num_X)\n",
    "    #print(num_X, num_M, num_N, num_P)\n",
    "    oddsratio, pvalue = stats.fisher_exact([[Q1,Q2], [Q3,Q4]], alternative=\"greater\")\n",
    "    #\n",
    "    return pvalue"
   ]
  },
  {
   "cell_type": "code",
   "execution_count": 4,
   "metadata": {
    "collapsed": false
   },
   "outputs": [],
   "source": [
    "import Enrichment # has an object with simple functionality to hold the enrichment values\n",
    "\n",
    "PathwayEnrichmentScores = {} # key = pathway, value = PathwayEnrichmentObject\n",
    "n_trials = len(K_Parser.KOsInAPathway) # for each organism, I will be testing the enrichment for n pathways\n",
    "\n",
    "for OrganismName in Acetylation.OrganismObjectsDictionary:\n",
    "    #if not OrganismName == \"Paenibacillus polymyxa ATCC842\":\n",
    "    #    #just for sanity in debugging\n",
    "    #    continue\n",
    "    OrganismObject = Acetylation.OrganismObjectsDictionary[OrganismName]\n",
    "    #this '*' is the mark of acetylation in the text PSM files\n",
    "    ModifiedProteinListAsAccessions = OrganismObject.GetModifiedProteinList('*') \n",
    "    ModifiedProteinListAsKO = K_Parser.ConvertListOfAccessionsToKOs(ModifiedProteinListAsAccessions)\n",
    "    NotModifiedProteinListAsAccessions = OrganismObject.GetNotModifiedProteins('*')\n",
    "    NotModifiedProteinListAsKO = K_Parser.ConvertListOfAccessionsToKOs(NotModifiedProteinListAsAccessions)\n",
    "    ObservedProteinsAsAccessions = OrganismObject.Proteins.keys() #get all observed proteins\n",
    "    ObservedProteinsAsKO = K_Parser.ConvertListOfAccessionsToKOs(ObservedProteinsAsAccessions)\n",
    "    \n",
    "    ###now we are looking at the number of proteins both as accessions and as KOs\n",
    "    #print (OrganismName)\n",
    "    #print (\"Proteins with Mods: %s total, %s in KO\"%(len(ModifiedProteinListAsAccessions), len(ModifiedProteinListAsKO)))\n",
    "    #print (\"Proteins NO Mods: %s total, %s in KO\"%(len(NotModifiedProteinListAsAccessions), len(NotModifiedProteinListAsKO)))\n",
    "    \n",
    "    #now we test this list of protiens against the KEGG pathways for enrichment using a Fisher's Exact Test\n",
    "    for Pathway in K_Parser.KOsInAPathway:\n",
    "        if not Pathway in PathwayEnrichmentScores:\n",
    "            Description = K_Parser.PathwayDescriptions[Pathway]\n",
    "            PathwayEnrichmentScores[Pathway] = Enrichment.PathwayEnrichment(Pathway, Description)\n",
    "        \n",
    "        KOsInPathway = K_Parser.KOsInAPathway[Pathway]\n",
    "        #it's necessary to limit the list of KO identifiers in a specific pathway\n",
    "        #to only those that are observed in mass spectrometry data, otherwise\n",
    "        #we can end up with a negative number in Q4.\n",
    "        ObservedKOsInPathway = intersect(ObservedProteinsAsKO, KOsInPathway)\n",
    "        pvalue = ComputeFishersExact(ModifiedProteinListAsKO, NotModifiedProteinListAsKO, ObservedKOsInPathway)\n",
    "        PathwayEnrichmentScores[Pathway].AddValue(OrganismName, pvalue)\n"
   ]
  },
  {
   "cell_type": "markdown",
   "metadata": {},
   "source": [
    "## Step 4. Making Pictures\n",
    "Now I'm going to make the image for supplemental figure 1. enrichment of the glycolysis and TCA pathway\n",
    "across the various organisms."
   ]
  },
  {
   "cell_type": "code",
   "execution_count": 5,
   "metadata": {
    "collapsed": true
   },
   "outputs": [],
   "source": [
    "## now that I've computed all the enrichment scores, I will go through and see if any pathways\n",
    "## are frequently significant across multiple organisms.\n",
    "\n",
    "def GetDataForPlotting(EnrichmentDictionary, PvalueCutoff, AddThesePathways, RemoveThesePathways):\n",
    "    ### EnrichmentDictionary = Dictionary of [pathway] -> Enrichment.PathwayEnrichment objects\n",
    "    ### PvalueCutoff = <float>\n",
    "    ### AddThesePathways = [list, of, specific, pathways] #as the PathwayID, key to EnrichmentDictionary above\n",
    "    ### RemoveThesePathways = [list, of, pathways] #as the PathwayID, key to EnrichmentDictionary above\n",
    "    ListOfGoodPathways = [] # keep track for the second pass\n",
    "    DataForBoxPlot = [] #going to be a multidimensional array, appended over time\n",
    "    for Pathway in EnrichmentDictionary: # this loops through the keys, which is the name of the pathways\n",
    "        MedianValue = EnrichmentDictionary[Pathway].GetMedian()\n",
    "        if MedianValue < PvalueCutoff:\n",
    "            if Pathway in RemoveThesePathways:\n",
    "                #just skip over these. not the droids you are looking for\n",
    "                continue\n",
    "            ListOfGoodPathways.append(Pathway)\n",
    "\n",
    "    #now we've cycled through all the pathways. Let's get working on that data structure for our boxplot\n",
    "    PlotLabels = []\n",
    "    for Pathway in ListOfGoodPathways:\n",
    "        DataForBoxPlot.append(EnrichmentDictionary[Pathway].GetEnrichmentList())\n",
    "        PlotLabels.append(EnrichmentDictionary[Pathway].PathwayDescription)\n",
    "        \n",
    "    for Pathway in AddThesePathways:\n",
    "        DataForBoxPlot.append(EnrichmentDictionary[Pathway].GetEnrichmentList())\n",
    "        PlotLabels.append(EnrichmentDictionary[Pathway].PathwayDescription)\n",
    "\n",
    "    return(DataForBoxPlot, PlotLabels)"
   ]
  },
  {
   "cell_type": "code",
   "execution_count": 6,
   "metadata": {
    "collapsed": false
   },
   "outputs": [
    {
     "name": "stdout",
     "output_type": "stream",
     "text": [
      "Saving image to AcetylationEnrichment.png\n"
     ]
    }
   ],
   "source": [
    "import matplotlib.pyplot as plt   \n",
    "fig = plt.figure()\n",
    "fig.suptitle('Pathway Enrichment of Protein Acetylation', fontsize=14, fontweight='bold')\n",
    "FileNameToSave = \"AcetylationEnrichment.png\"\n",
    "ax = fig.add_subplot(111)\n",
    "ax.set_xlabel('Enrichment Pvalue')\n",
    "\n",
    "plt.xlim([0,1.1]) # to get all the things exactly at 1.0\n",
    "\n",
    "########  adding some specific pathways for comparison in Acetylation\n",
    "#map00220, Arginine biosynthesis - for the urea cycle cited prominently in http://science.sciencemag.org/content/327/5968/1000.full\n",
    "#however just to be perfectly sure, I made my own KO listing and called it shp00001\n",
    "#this custom pathway includes only the proteins listed in figure 1F of the science paper.\n",
    "#map01212, Fatty acid metabolism, also in the science paper\n",
    "ListToAddForAcetylation = ['shp00001', 'map01212']\n",
    "###### to make a clean figure, I am removing some enriched pathways that are not part of the story\n",
    "#map03010 = ribosome\n",
    "#map00710 = Carbon fixation in photosynthetic organisms\n",
    "#map00720 = Carbon fixation in prokaryotes\n",
    "#map01200 = Carbon metabolism\n",
    "#map01130 = Biosynthesis of antibiotics\n",
    "#map00620 = Pyruvate metabolism\n",
    "ListToRemoveForAcetylation = ['map03010', 'map00710', 'map01200', 'map01130', 'map00620', 'map00720']\n",
    "(Data, Labels) = GetDataForPlotting(PathwayEnrichmentScores, 0.01, ListToAddForAcetylation, ListToRemoveForAcetylation)\n",
    "\n",
    "#apparently there are operaters that one can EITHER do by order or through assignment\n",
    "#this is real herasy, and horrible coding. But that is the way that matplotlib (and R) works.\n",
    "#until they FIX that, I'll be doing the  assignment route, because there is real potential \n",
    "# for confusion.  \n",
    "#notch=0 ==> regualr boxes, not notched boxes\n",
    "#sym='' ==> don't use any symbol to display outliers, could use 'rs' or 'b+' (works with showFliers)\n",
    "#--- see http://matplotlib.org/api/axes_api.html for all the shorthand of what could be used\n",
    "#vert=0 ==> a horizontal display, not vertical\n",
    "plt.boxplot(Data, notch=0, showfliers=0, vert=0, labels=Labels)\n",
    "#plt.show()\n",
    "plt.savefig(FileNameToSave, bbox_inches='tight', dpi=300)\n",
    "print (\"Saving image to %s\"%FileNameToSave)"
   ]
  },
  {
   "cell_type": "code",
   "execution_count": 7,
   "metadata": {
    "collapsed": false
   },
   "outputs": [
    {
     "name": "stdout",
     "output_type": "stream",
     "text": [
      "Saving image to AcetylationEnrichment_zoomed.png\n"
     ]
    }
   ],
   "source": [
    "#zoomed x axis to show the consistency.\n",
    "\n",
    "fig_zoom = plt.figure()\n",
    "fig_zoom.suptitle('Pathway Enrichment of Protein Acetylation - zoomed', fontsize=14, fontweight='bold')\n",
    "FileNameToSave = \"AcetylationEnrichment_zoomed.png\"\n",
    "ax = fig.add_subplot(111)\n",
    "ax.set_xlabel('Enrichment Pvalue')\n",
    "\n",
    "plt.xlim([0,0.2]) # to get all the things exactly at 1.0\n",
    "\n",
    "########  adding some specific pathways for comparison in Acetylation\n",
    "#map00220, Arginine biosynthesis - for the urea cycle cited prominently in http://science.sciencemag.org/content/327/5968/1000.full\n",
    "#however just to be perfectly sure, I made my own KO listing and called it shp00001\n",
    "#this custom pathway includes only the proteins listed in figure 1F of the science paper.\n",
    "#map01212, Fatty acid metabolism, also in the science paper\n",
    "ListToAddForAcetylation = ['shp00001', 'map01212']\n",
    "###### to make a clean figure, I am removing some enriched pathways that are not part of the story\n",
    "#map03010 = ribosome\n",
    "#map00710 = Carbon fixation in photosynthetic organisms\n",
    "#map00720 = Carbon fixation in prokaryotes\n",
    "#map01200 = Carbon metabolism\n",
    "#map01130 = Biosynthesis of antibiotics\n",
    "#map00620 = Pyruvate metabolism\n",
    "ListToRemoveForAcetylation = ['map03010', 'map00710', 'map01200', 'map01130', 'map00620', 'map00720']\n",
    "(Data, Labels) = GetDataForPlotting(PathwayEnrichmentScores, 0.01, ListToAddForAcetylation, ListToRemoveForAcetylation)\n",
    "\n",
    "#apparently there are operaters that one can EITHER do by order or through assignment\n",
    "#this is real herasy, and horrible coding. But that is the way that matplotlib (and R) works.\n",
    "#until they FIX that, I'll be doing the  assignment route, because there is real potential \n",
    "# for confusion.  \n",
    "#notch=0 ==> regualr boxes, not notched boxes\n",
    "#sym='' ==> don't use any symbol to display outliers, could use 'rs' or 'b+' (works with showFliers)\n",
    "#--- see http://matplotlib.org/api/axes_api.html for all the shorthand of what could be used\n",
    "#vert=0 ==> a horizontal display, not vertical\n",
    "plt.boxplot(Data, notch=0, showfliers=0, vert=0, labels=Labels)\n",
    "#plt.show()\n",
    "plt.savefig(FileNameToSave, bbox_inches='tight', dpi=300)\n",
    "print (\"Saving image to %s\"%FileNameToSave)"
   ]
  },
  {
   "cell_type": "markdown",
   "metadata": {},
   "source": [
    "## Step 5. Making the Supplemental Table \n",
    "\n",
    "All the bookkeeping to print off proteins, spectra, fdr. stuff like that\n",
    "\n"
   ]
  },
  {
   "cell_type": "code",
   "execution_count": 8,
   "metadata": {
    "collapsed": false
   },
   "outputs": [],
   "source": [
    "\n",
    "Dictionary = Acetylation.GetOrganismObjects()\n",
    "SortedOrgList = sorted(Dictionary.keys())\n",
    "\n",
    "Handle = open(\"SupplementaryTable1.txt\", 'w')\n",
    "Header = \"Organism\\tProtein Count\\tAcetylated Protein Count\\tDecoy Protein Count\\n\"\n",
    "Handle.write(Header)\n",
    "\n",
    "for OrganismName in SortedOrgList:\n",
    "    NumProteins = Dictionary[OrganismName].GetProteinCount()\n",
    "    NumModProteins = len(Dictionary[OrganismName].GetModifiedProteinList('*'))\n",
    "    NumDecoy = Dictionary[OrganismName].GetDecoyProteins()\n",
    "    PrintString = \"%s\\t%s\\t%s\\t%s\\n\"%(OrganismName, NumProteins, NumModProteins, NumDecoy)\n",
    "    #print (PrintString)\n",
    "    Handle.write(PrintString)\n",
    "    \n",
    "Handle.close()"
   ]
  }
 ],
 "metadata": {
  "anaconda-cloud": {},
  "kernelspec": {
   "display_name": "Python [conda root]",
   "language": "python",
   "name": "conda-root-py"
  },
  "language_info": {
   "codemirror_mode": {
    "name": "ipython",
    "version": 3
   },
   "file_extension": ".py",
   "mimetype": "text/x-python",
   "name": "python",
   "nbconvert_exporter": "python",
   "pygments_lexer": "ipython3",
   "version": "3.5.2"
  }
 },
 "nbformat": 4,
 "nbformat_minor": 1
}
